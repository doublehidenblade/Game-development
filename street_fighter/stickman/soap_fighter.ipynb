{
 "cells": [
  {
   "cell_type": "code",
   "execution_count": 1,
   "metadata": {},
   "outputs": [
    {
     "name": "stdout",
     "output_type": "stream",
     "text": [
      "pygame 1.9.4\n",
      "Hello from the pygame community. https://www.pygame.org/contribute.html\n"
     ]
    },
    {
     "ename": "SystemExit",
     "evalue": "0",
     "output_type": "error",
     "traceback": [
      "An exception has occurred, use %tb to see the full traceback.\n",
      "\u001b[0;31mSystemExit\u001b[0m\u001b[0;31m:\u001b[0m 0\n"
     ]
    },
    {
     "name": "stderr",
     "output_type": "stream",
     "text": [
      "/Users/craig/anaconda3/envs/mypython3/lib/python3.7/site-packages/IPython/core/interactiveshell.py:3275: UserWarning: To exit: use 'exit', 'quit', or Ctrl-D.\n",
      "  warn(\"To exit: use 'exit', 'quit', or Ctrl-D.\", stacklevel=1)\n"
     ]
    }
   ],
   "source": [
    "import pygame\n",
    "import sys\n",
    "import os\n",
    "_image_library = {}\n",
    "clock = pygame.time.Clock()\n",
    "def get_image(path):\n",
    "        global _image_library\n",
    "        image = _image_library.get(path)\n",
    "        if image == None:\n",
    "                canonicalized_path = path.replace('/', os.sep).replace('\\\\', os.sep)\n",
    "                image = pygame.image.load(canonicalized_path)\n",
    "                _image_library[path] = image\n",
    "        return image\n",
    "        \n",
    "class aSprite(pygame.sprite.Sprite):\n",
    "    def __init__(self):\n",
    "        super(aSprite, self).__init__()\n",
    "        self.images = []\n",
    "        self.images.append(get_image('stickman/walk1.png'))\n",
    "        self.images.append(get_image('stickman/walk2.png'))\n",
    "        self.images.append(get_image('stickman/walk3.png'))\n",
    "        self.images.append(get_image('stickman/walk2.png'))\n",
    "        self.images.append(get_image('stickman/walk1.png'))\n",
    "        # images are 64x64 pixels\n",
    "\n",
    "        self.index = 0\n",
    "        self.image = self.images[self.index]\n",
    "        self.rect = pygame.Rect(80, 200, 64, 64)\n",
    "\n",
    "    def update(self):\n",
    "        '''This method iterates through the elements inside self.images and \n",
    "        displays the next one each tick. For a slower animation, you may want to \n",
    "        consider using a timer of some sort so it updates slower.'''\n",
    "        self.index += 1\n",
    "        if self.index >= len(self.images):\n",
    "            self.index = 0\n",
    "        self.image = self.images[self.index]\n",
    "    def setPosition(self, x,y):\n",
    "        self.rect.x = x\n",
    "        self.rect.y = y\n",
    "\n",
    "        \n",
    "def main():\n",
    "    pygame.init()\n",
    "    screen = pygame.display.set_mode((600, 300))\n",
    "    x1 = 80\n",
    "    y1 = 200\n",
    "    a1 = 0\n",
    "    figure1 = aSprite()\n",
    "    group1 = pygame.sprite.Group(figure1)\n",
    "    while True:\n",
    "        \n",
    "        event = pygame.event.poll()\n",
    "        if event.type == pygame.QUIT:\n",
    "            pygame.quit()\n",
    "            sys.exit(0)\n",
    "        if event.type == pygame.KEYDOWN and event.key == pygame.K_ESCAPE:\n",
    "            pygame.quit()\n",
    "            sys.exit(0)\n",
    "        \n",
    "        # update bckgnd\n",
    "        screen.blit(get_image('stickman/stage1.png'), (0, 0))\n",
    "        \n",
    "        # update motion\n",
    "        if y1 < 200:\n",
    "            in_air = True\n",
    "            y1 -= a1\n",
    "            a1 -= 1\n",
    "            figure1.setPosition(x1, y1)\n",
    "        else:\n",
    "            in_air = False\n",
    "            vel = 0\n",
    "        if in_air:\n",
    "            x1 += vel\n",
    "            figure1.setPosition(x1, y1)\n",
    "            \n",
    "        mousePressed = pygame.mouse.get_pressed()\n",
    "        pressed = pygame.key.get_pressed()   \n",
    "        if pressed[pygame.K_d] and (in_air == False):\n",
    "            x1 += 2\n",
    "            figure1.setPosition(x1, y1)\n",
    "            group1.update()\n",
    "            vel = 2\n",
    "        if pressed[pygame.K_a] and (in_air == False):\n",
    "            x1 -= 2\n",
    "            figure1.setPosition(x1, y1)\n",
    "            group1.update()\n",
    "            vel = -2\n",
    "        if (event.type == pygame.KEYDOWN) and (event.key == pygame.K_w) and (in_air == False):\n",
    "            a1 = 7\n",
    "            y1 -= a1\n",
    "            figure1.setPosition(x1, y1)\n",
    "            a1 -= 1\n",
    "            #print(y1,a1)\n",
    "        \n",
    "        group1.draw(screen)\n",
    "        pygame.display.flip()\n",
    "        \n",
    "    pygame.quit()\n",
    "exit()\n",
    "if __name__ == '__main__':\n",
    "    main()"
   ]
  },
  {
   "cell_type": "markdown",
   "metadata": {},
   "source": []
  }
 ],
 "metadata": {
  "kernelspec": {
   "display_name": "Python 3",
   "language": "python",
   "name": "python3"
  },
  "language_info": {
   "codemirror_mode": {
    "name": "ipython",
    "version": 3
   },
   "file_extension": ".py",
   "mimetype": "text/x-python",
   "name": "python",
   "nbconvert_exporter": "python",
   "pygments_lexer": "ipython3",
   "version": "3.7.1"
  }
 },
 "nbformat": 4,
 "nbformat_minor": 2
}
