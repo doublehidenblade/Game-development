{
 "cells": [
  {
   "cell_type": "code",
   "execution_count": 1,
   "metadata": {},
   "outputs": [
    {
     "name": "stdout",
     "output_type": "stream",
     "text": [
      "pygame 1.9.4\n",
      "Hello from the pygame community. https://www.pygame.org/contribute.html\n"
     ]
    }
   ],
   "source": [
    "import pygame\n",
    "import random\n",
    " \n",
    "# Initialize the game engine\n",
    "pygame.init()\n",
    " \n",
    "BLACK = [0, 0, 0]\n",
    "WHITE = [255, 255, 255]\n",
    " \n",
    "# Set the height and width of the screen\n",
    "SIZE = [400, 400]\n",
    " \n",
    "screen = pygame.display.set_mode(SIZE)\n",
    "pygame.display.set_caption(\"Snow Animation\")\n",
    " \n",
    "# Create an empty array\n",
    "snow_list = []\n",
    " \n",
    "# Loop 50 times and add a snow flake in a random x,y position\n",
    "for i in range(50):\n",
    "    x = random.randrange(0, 400)\n",
    "    y = random.randrange(0, 400)\n",
    "    snow_list.append([x, y])\n",
    " \n",
    "clock = pygame.time.Clock()\n",
    " \n",
    "# Loop until the user clicks the close button.\n",
    "done = False\n",
    "while not done:\n",
    " \n",
    "    for event in pygame.event.get():   # User did something\n",
    "        if event.type == pygame.QUIT:  # If user clicked close\n",
    "            done = True   # Flag that we are done so we exit this loop\n",
    " \n",
    "    # Set the screen background\n",
    "    screen.fill(BLACK)\n",
    " \n",
    "    # Process each snow flake in the list\n",
    "    for i in range(len(snow_list)):\n",
    " \n",
    "        # Draw the snow flake\n",
    "        pygame.draw.circle(screen, WHITE, snow_list[i], 2)\n",
    " \n",
    "        # Move the snow flake down one pixel\n",
    "        snow_list[i][1] += 1\n",
    " \n",
    "        # If the snow flake has moved off the bottom of the screen\n",
    "        if snow_list[i][1] > 400:\n",
    "            # Reset it just above the top\n",
    "            y = random.randrange(-50, -10)\n",
    "            snow_list[i][1] = y\n",
    "            # Give it a new x position\n",
    "            x = random.randrange(0, 400)\n",
    "            snow_list[i][0] = x\n",
    " \n",
    "    # Go ahead and update the screen with what we've drawn.\n",
    "    pygame.display.flip()\n",
    "    clock.tick(20)\n",
    " \n",
    "# Be IDLE friendly. If you forget this line, the program will 'hang'\n",
    "# on exit.\n",
    "pygame.quit()\n",
    "quit()"
   ]
  },
  {
   "cell_type": "code",
   "execution_count": null,
   "metadata": {},
   "outputs": [],
   "source": []
  }
 ],
 "metadata": {
  "kernelspec": {
   "display_name": "Python 3",
   "language": "python",
   "name": "python3"
  },
  "language_info": {
   "codemirror_mode": {
    "name": "ipython",
    "version": 3
   },
   "file_extension": ".py",
   "mimetype": "text/x-python",
   "name": "python",
   "nbconvert_exporter": "python",
   "pygments_lexer": "ipython3",
   "version": "3.7.1"
  }
 },
 "nbformat": 4,
 "nbformat_minor": 2
}
